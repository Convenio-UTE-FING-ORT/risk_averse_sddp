{
 "cells": [
  {
   "cell_type": "code",
   "execution_count": 1,
   "metadata": {},
   "outputs": [],
   "source": [
    "using SDDP, Distributions, GLPK, Plots"
   ]
  },
  {
   "cell_type": "code",
   "execution_count": 2,
   "metadata": {},
   "outputs": [
    {
     "data": {
      "text/plain": [
       "A policy graph with 2 nodes.\n",
       " Node indices: decision_node, demand_node\n"
      ]
     },
     "execution_count": 2,
     "metadata": {},
     "output_type": "execute_result"
    }
   ],
   "source": [
    "graph = SDDP.Graph(\n",
    "           :root_node,\n",
    "           [:decision_node,:demand_node],\n",
    "           [\n",
    "               (:root_node => :decision_node, 1.0),\n",
    "               (:decision_node => :demand_node, 1.0)\n",
    "           ]);\n",
    "\n",
    "\n",
    "p = 1.0 #day ahead price\n",
    "q = 2.0 #same day price\n",
    "\n",
    "model = SDDP.PolicyGraph(\n",
    "            graph,\n",
    "            sense = :Min,\n",
    "            lower_bound = 0,\n",
    "            optimizer = with_optimizer(GLPK.Optimizer)) do subproblem, node\n",
    "\n",
    "                @variable(subproblem, stock>=0, SDDP.State, initial_value = 0)\n",
    "\n",
    "                @variable(subproblem, 0 <= reserve)\n",
    "                @variable(subproblem, 0 <= shortage)\n",
    "\n",
    "                @variable(subproblem, demand)\n",
    "\n",
    "                @constraint(subproblem, stock.out == stock.in + reserve + shortage - demand)\n",
    "\n",
    "                if node == :decision_node\n",
    "                        JuMP.fix(demand,0.0)\n",
    "                        JuMP.fix(shortage,0.0;force=true)\n",
    "                else\n",
    "\n",
    "                    ##demandas uniformes\n",
    "                    demand_range = collect(0:100);\n",
    "                    demand_probability = ones(size(demand_range));\n",
    "                    demand_probability ./= sum(demand_probability);\n",
    "\n",
    "                    SDDP.parameterize(subproblem,demand_range,demand_probability) do d\n",
    "                        JuMP.fix(demand,d)\n",
    "                        JuMP.fix(reserve,0.0;force=true)\n",
    "                    end\n",
    "                end\n",
    "\n",
    "\n",
    "                if node == :decision_node\n",
    "                    @stageobjective(subproblem,  p*reserve);\n",
    "                else\n",
    "                    @stageobjective(subproblem,  q*shortage);\n",
    "                end\n",
    "            end"
   ]
  },
  {
   "cell_type": "code",
   "execution_count": 3,
   "metadata": {},
   "outputs": [
    {
     "name": "stdout",
     "output_type": "stream",
     "text": [
      "--------------------------------------------------------------------------------\n",
      "                      SDDP.jl (c) Oscar Dowson, 2017-20\n",
      "\n",
      "Numerical stability report\n",
      "  Non-zero Matrix range     [1e+00, 1e+00]\n",
      "  Non-zero Objective range  [1e+00, 2e+00]\n",
      "  Non-zero Bounds range     [0e+00, 0e+00]\n",
      "  Non-zero RHS range        [0e+00, 0e+00]\n",
      "No problems detected\n",
      "\n",
      "Solver: serial mode\n",
      "\n",
      " Iteration    Simulation       Bound         Time (s)    Proc. ID   # Solves\n",
      "        1    1.420000e+02   9.039604e+01   1.938187e+01          1        104\n",
      "        2    9.039604e+01   9.539992e+01   1.946324e+01          1        208\n",
      "        3    9.660784e+01   9.542574e+01   1.946575e+01          1        312\n",
      "        4    8.800000e+01   9.544059e+01   1.946801e+01          1        416\n",
      "        5    8.950000e+01   9.544554e+01   1.947022e+01          1        520\n",
      "        6    9.000000e+01   9.544554e+01   1.947265e+01          1        624\n",
      "        7    1.020000e+02   9.544554e+01   1.947494e+01          1        728\n",
      "        8    9.000000e+01   9.544554e+01   1.947733e+01          1        832\n",
      "        9    9.000000e+01   9.544554e+01   1.947956e+01          1        936\n",
      "       10    1.080000e+02   9.544554e+01   1.948168e+01          1       1040\n",
      "       11    9.000000e+01   9.544554e+01   1.948389e+01          1       1144\n",
      "       12    9.000000e+01   9.544554e+01   1.948605e+01          1       1248\n",
      "       13    1.080000e+02   9.544554e+01   1.948814e+01          1       1352\n",
      "       14    9.000000e+01   9.544554e+01   1.949022e+01          1       1456\n",
      "       15    9.000000e+01   9.544554e+01   1.949229e+01          1       1560\n",
      "       16    1.040000e+02   9.544554e+01   1.949453e+01          1       1664\n",
      "       17    9.600000e+01   9.544554e+01   1.949664e+01          1       1768\n",
      "       18    9.000000e+01   9.544554e+01   1.949862e+01          1       1872\n",
      "       19    9.000000e+01   9.544554e+01   1.950068e+01          1       1976\n",
      "       20    9.000000e+01   9.544554e+01   1.950265e+01          1       2080\n",
      "\n",
      "Terminating training with status: iteration_limit\n",
      "------------------------------------------------------------------------------\n"
     ]
    }
   ],
   "source": [
    "#SDDP.train(model,iteration_limit=20)\n",
    "#AVAR version\n",
    "SDDP.train(model,risk_measure = SDDP.AVaR(0.2),iteration_limit=20)"
   ]
  },
  {
   "cell_type": "code",
   "execution_count": 4,
   "metadata": {},
   "outputs": [
    {
     "data": {
      "text/plain": [
       "1-element Array{Array{Dict{Symbol,Any},1},1}:\n",
       " [Dict(:stock => SDDP.State{Float64}(0.0, 89.99999999999991),:bellman_term => 5.445544554455537,:noise_term => nothing,:node_index => :decision_node,:stage_objective => 89.99999999999991,:objective_state => nothing,:reserve => 89.99999999999991,:demand => 0.0,:belief => Dict(:decision_node => 1.0),:shortage => 0.0…), Dict(:stock => SDDP.State{Float64}(89.99999999999991, 3.9999999999999147),:bellman_term => 0.0,:noise_term => 86,:node_index => :demand_node,:stage_objective => 0.0,:objective_state => nothing,:reserve => 0.0,:demand => 86.0,:belief => Dict(:demand_node => 1.0),:shortage => 0.0…)]"
      ]
     },
     "execution_count": 4,
     "metadata": {},
     "output_type": "execute_result"
    }
   ],
   "source": [
    "results=SDDP.simulate(model,1,[:reserve,:stock,:demand,:shortage])"
   ]
  },
  {
   "cell_type": "code",
   "execution_count": null,
   "metadata": {},
   "outputs": [],
   "source": []
  }
 ],
 "metadata": {
  "kernelspec": {
   "display_name": "Julia 1.5.1",
   "language": "julia",
   "name": "julia-1.5"
  },
  "language_info": {
   "file_extension": ".jl",
   "mimetype": "application/julia",
   "name": "julia",
   "version": "1.5.1"
  }
 },
 "nbformat": 4,
 "nbformat_minor": 4
}
