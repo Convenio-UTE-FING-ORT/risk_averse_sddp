{
 "cells": [
  {
   "cell_type": "code",
   "execution_count": 1,
   "metadata": {},
   "outputs": [],
   "source": [
    "using SDDP, Distributions, GLPK, Plots"
   ]
  },
  {
   "cell_type": "code",
   "execution_count": 2,
   "metadata": {},
   "outputs": [
    {
     "data": {
      "text/plain": [
       "A policy graph with 2 nodes.\n",
       " Node indices: decision_node, demand_node\n"
      ]
     },
     "execution_count": 2,
     "metadata": {},
     "output_type": "execute_result"
    }
   ],
   "source": [
    "graph = SDDP.Graph(\n",
    "           :root_node,\n",
    "           [:decision_node,:demand_node],\n",
    "           [\n",
    "               (:root_node => :decision_node, 1.0),\n",
    "               (:decision_node => :demand_node, 1.0)\n",
    "           ]);\n",
    "\n",
    "\n",
    "p = 1.0 #day ahead price\n",
    "q = 2.0 #same day price\n",
    "\n",
    "model = SDDP.PolicyGraph(\n",
    "            graph,\n",
    "            sense = :Min,\n",
    "            lower_bound = 0,\n",
    "            optimizer = with_optimizer(GLPK.Optimizer)) do subproblem, node\n",
    "\n",
    "                @variable(subproblem, stock>=0, SDDP.State, initial_value = 0)\n",
    "\n",
    "                @variable(subproblem, 0 <= reserve)\n",
    "                @variable(subproblem, 0 <= shortage)\n",
    "\n",
    "                @variable(subproblem, demand)\n",
    "\n",
    "                @constraint(subproblem, stock.out == stock.in + reserve + shortage - demand)\n",
    "\n",
    "                if node == :decision_node\n",
    "                        JuMP.fix(demand,0.0)\n",
    "                        JuMP.fix(shortage,0.0;force=true)\n",
    "                else\n",
    "\n",
    "                    ##demandas uniformes\n",
    "                    demand_range = collect(0:100);\n",
    "                    demand_probability = ones(size(demand_range));\n",
    "                    demand_probability ./= sum(demand_probability);\n",
    "\n",
    "                    SDDP.parameterize(subproblem,demand_range,demand_probability) do d\n",
    "                        JuMP.fix(demand,d)\n",
    "                        JuMP.fix(reserve,0.0;force=true)\n",
    "                    end\n",
    "                end\n",
    "\n",
    "\n",
    "                if node == :decision_node\n",
    "                    @stageobjective(subproblem,  p*reserve);\n",
    "                else\n",
    "                    @stageobjective(subproblem,  q*shortage);\n",
    "                end\n",
    "            end"
   ]
  },
  {
   "cell_type": "code",
   "execution_count": 6,
   "metadata": {},
   "outputs": [
    {
     "name": "stdout",
     "output_type": "stream",
     "text": [
      "--------------------------------------------------------------------------------\n",
      "                      SDDP.jl (c) Oscar Dowson, 2017-20\n",
      "\n",
      "Numerical stability report\n",
      "  Non-zero Matrix range     [1e+00, 2e+00]\n",
      "  Non-zero Objective range  [1e+00, 2e+00]\n",
      "  Non-zero Bounds range     [0e+00, 0e+00]\n",
      "  Non-zero RHS range        [7e+01, 1e+02]\n",
      "No problems detected\n",
      "\n",
      "Solver: serial mode\n",
      "\n",
      " Iteration    Simulation       Bound         Time (s)    Proc. ID   # Solves\n",
      "        1    1.080000e+02   9.039604e+01   3.322079e-01          1       4266\n",
      "        2    9.039604e+01   9.539992e+01   3.347750e-01          1       4370\n",
      "        3    8.539216e+01   9.542574e+01   3.370121e-01          1       4474\n",
      "        4    8.800000e+01   9.544059e+01   3.394649e-01          1       4578\n",
      "        5    8.950000e+01   9.544554e+01   3.429880e-01          1       4682\n",
      "        6    9.000000e+01   9.544554e+01   3.458021e-01          1       4786\n",
      "        7    9.000000e+01   9.544554e+01   3.481500e-01          1       4890\n",
      "        8    9.000000e+01   9.544554e+01   3.508830e-01          1       4994\n",
      "        9    9.000000e+01   9.544554e+01   3.538320e-01          1       5098\n",
      "       10    9.000000e+01   9.544554e+01   3.565030e-01          1       5202\n",
      "       11    9.000000e+01   9.544554e+01   3.589089e-01          1       5306\n",
      "       12    9.000000e+01   9.544554e+01   3.610609e-01          1       5410\n",
      "       13    9.000000e+01   9.544554e+01   3.632131e-01          1       5514\n",
      "       14    9.000000e+01   9.544554e+01   3.654361e-01          1       5618\n",
      "       15    9.000000e+01   9.544554e+01   3.678310e-01          1       5722\n",
      "       16    9.000000e+01   9.544554e+01   3.706920e-01          1       5826\n",
      "       17    9.000000e+01   9.544554e+01   3.737359e-01          1       5930\n",
      "       18    9.000000e+01   9.544554e+01   3.764830e-01          1       6034\n",
      "       19    9.000000e+01   9.544554e+01   3.791690e-01          1       6138\n",
      "       20    1.080000e+02   9.544554e+01   3.815620e-01          1       6242\n",
      "\n",
      "Terminating training with status: iteration_limit\n",
      "------------------------------------------------------------------------------\n"
     ]
    }
   ],
   "source": [
    "#SDDP.train(model,iteration_limit=20)\n",
    "#AVAR version\n",
    "SDDP.train(model,risk_measure = SDDP.AVaR(0.2),iteration_limit=20)"
   ]
  },
  {
   "cell_type": "code",
   "execution_count": 7,
   "metadata": {},
   "outputs": [
    {
     "data": {
      "text/plain": [
       "1-element Array{Array{Dict{Symbol,Any},1},1}:\n",
       " [Dict(:stock => SDDP.State{Float64}(0.0, 89.99999999999991),:bellman_term => 5.445544554455537,:noise_term => nothing,:node_index => :decision_node,:stage_objective => 89.99999999999991,:objective_state => nothing,:reserve => 89.99999999999991,:demand => 0.0,:belief => Dict(:decision_node => 1.0),:shortage => 0.0…), Dict(:stock => SDDP.State{Float64}(89.99999999999991, 49.999999999999915),:bellman_term => 0.0,:noise_term => 40,:node_index => :demand_node,:stage_objective => 0.0,:objective_state => nothing,:reserve => 0.0,:demand => 40.0,:belief => Dict(:demand_node => 1.0),:shortage => 0.0…)]"
      ]
     },
     "execution_count": 7,
     "metadata": {},
     "output_type": "execute_result"
    }
   ],
   "source": [
    "results=SDDP.simulate(model,1,[:reserve,:stock,:demand,:shortage])"
   ]
  },
  {
   "cell_type": "code",
   "execution_count": null,
   "metadata": {},
   "outputs": [],
   "source": []
  }
 ],
 "metadata": {
  "kernelspec": {
   "display_name": "Julia 1.5.1",
   "language": "julia",
   "name": "julia-1.5"
  },
  "language_info": {
   "file_extension": ".jl",
   "mimetype": "application/julia",
   "name": "julia",
   "version": "1.5.1"
  }
 },
 "nbformat": 4,
 "nbformat_minor": 4
}
