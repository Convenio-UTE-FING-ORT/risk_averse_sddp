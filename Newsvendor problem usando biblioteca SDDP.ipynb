{
 "cells": [
  {
   "cell_type": "code",
   "execution_count": 1,
   "metadata": {},
   "outputs": [],
   "source": [
    "using SDDP, Distributions, GLPK, Plots"
   ]
  },
  {
   "cell_type": "code",
   "execution_count": 2,
   "metadata": {},
   "outputs": [
    {
     "data": {
      "text/plain": [
       "A policy graph with 2 nodes.\n",
       " Node indices: decision_node, demand_node\n"
      ]
     },
     "execution_count": 2,
     "metadata": {},
     "output_type": "execute_result"
    }
   ],
   "source": [
    "graph = SDDP.Graph(\n",
    "           :root_node,\n",
    "           [:decision_node,:demand_node],\n",
    "           [\n",
    "               (:root_node => :decision_node, 1.0),\n",
    "               (:decision_node => :demand_node, 1.0)\n",
    "           ]);\n",
    "\n",
    "\n",
    "p = 1.0 #day ahead price\n",
    "q = 2.0 #same day price\n",
    "\n",
    "model = SDDP.PolicyGraph(\n",
    "            graph,\n",
    "            sense = :Min,\n",
    "            lower_bound = 0,\n",
    "            optimizer = with_optimizer(GLPK.Optimizer)) do subproblem, node\n",
    "\n",
    "                @variable(subproblem, stock>=0, SDDP.State, initial_value = 0)\n",
    "\n",
    "                @variable(subproblem, 0 <= reserve)\n",
    "                @variable(subproblem, 0 <= shortage)\n",
    "\n",
    "                @variable(subproblem, demand)\n",
    "\n",
    "                @constraint(subproblem, stock.out == stock.in + reserve + shortage - demand)\n",
    "\n",
    "                if node == :decision_node\n",
    "                        JuMP.fix(demand,0.0)\n",
    "                        JuMP.fix(shortage,0.0;force=true)\n",
    "                else\n",
    "\n",
    "                    ##demandas uniformes\n",
    "                    demand_range = collect(0:100);\n",
    "                    demand_probability = ones(size(demand_range));\n",
    "                    demand_probability ./= sum(demand_probability);\n",
    "\n",
    "                    SDDP.parameterize(subproblem,demand_range,demand_probability) do d\n",
    "                        JuMP.fix(demand,d)\n",
    "                        JuMP.fix(reserve,0.0;force=true)\n",
    "                    end\n",
    "                end\n",
    "\n",
    "\n",
    "                if node == :decision_node\n",
    "                    @stageobjective(subproblem,  p*reserve);\n",
    "                else\n",
    "                    @stageobjective(subproblem,  q*shortage);\n",
    "                end\n",
    "            end"
   ]
  },
  {
   "cell_type": "code",
   "execution_count": 3,
   "metadata": {},
   "outputs": [
    {
     "name": "stdout",
     "output_type": "stream",
     "text": [
      "--------------------------------------------------------------------------------\n",
      "                      SDDP.jl (c) Oscar Dowson, 2017-20\n",
      "\n",
      "Numerical stability report\n",
      "  Non-zero Matrix range     [1e+00, 1e+00]\n",
      "  Non-zero Objective range  [1e+00, 2e+00]\n",
      "  Non-zero Bounds range     [0e+00, 0e+00]\n",
      "  Non-zero RHS range        [0e+00, 0e+00]\n",
      "No problems detected\n",
      "\n",
      "Solver: serial mode\n",
      "\n",
      " Iteration    Simulation       Bound         Time (s)    Proc. ID   # Solves\n",
      "        1    1.460000e+02   5.000000e+01   1.330057e+01          1        104\n",
      "        2    5.800000e+01   7.500000e+01   1.335031e+01          1        208\n",
      "        3    1.450000e+02   7.512871e+01   1.335181e+01          1        312\n",
      "        4    3.800000e+01   7.519307e+01   1.335336e+01          1        416\n",
      "        5    1.175000e+02   7.522277e+01   1.335500e+01          1        520\n",
      "        6    7.450000e+01   7.523762e+01   1.335672e+01          1        624\n",
      "        7    1.070000e+02   7.524752e+01   1.335843e+01          1        728\n",
      "        8    6.000000e+01   7.524752e+01   1.336037e+01          1        832\n",
      "        9    7.000000e+01   7.524752e+01   1.368678e+01          1        936\n",
      "       10    5.400000e+01   7.524752e+01   1.368841e+01          1       1040\n",
      "       11    5.000000e+01   7.524752e+01   1.368979e+01          1       1144\n",
      "       12    5.000000e+01   7.524752e+01   1.369108e+01          1       1248\n",
      "       13    8.600000e+01   7.524752e+01   1.369293e+01          1       1352\n",
      "       14    5.000000e+01   7.524752e+01   1.369489e+01          1       1456\n",
      "       15    1.300000e+02   7.524752e+01   1.369641e+01          1       1560\n",
      "       16    5.000000e+01   7.524752e+01   1.369776e+01          1       1664\n",
      "       17    1.260000e+02   7.524752e+01   1.369924e+01          1       1768\n",
      "       18    1.200000e+02   7.524752e+01   1.370073e+01          1       1872\n",
      "       19    1.500000e+02   7.524752e+01   1.370245e+01          1       1976\n",
      "       20    5.000000e+01   7.524752e+01   1.370426e+01          1       2080\n",
      "\n",
      "Terminating training with status: iteration_limit\n",
      "------------------------------------------------------------------------------\n"
     ]
    }
   ],
   "source": [
    "SDDP.train(model,iteration_limit=20)\n",
    "#AVAR version\n",
    "#SDDP.train(model,risk_measure = SDDP.AVaR(1.0),iteration_limit=20)"
   ]
  },
  {
   "cell_type": "code",
   "execution_count": 4,
   "metadata": {},
   "outputs": [
    {
     "data": {
      "text/plain": [
       "1-element Array{Array{Dict{Symbol,Any},1},1}:\n",
       " [Dict(:stock => SDDP.State{Float64}(0.0, 49.99999999999938),:bellman_term => 25.24752475247586,:noise_term => nothing,:node_index => :decision_node,:stage_objective => 49.99999999999938,:objective_state => nothing,:reserve => 49.99999999999938,:demand => 0.0,:belief => Dict(:decision_node => 1.0),:shortage => 0.0…), Dict(:stock => SDDP.State{Float64}(49.99999999999938, 0.0),:bellman_term => 0.0,:noise_term => 94,:node_index => :demand_node,:stage_objective => 88.00000000000124,:objective_state => nothing,:reserve => 0.0,:demand => 94.0,:belief => Dict(:demand_node => 1.0),:shortage => 44.00000000000062…)]"
      ]
     },
     "execution_count": 4,
     "metadata": {},
     "output_type": "execute_result"
    }
   ],
   "source": [
    "results=SDDP.simulate(model,1,[:reserve,:stock,:demand,:shortage])"
   ]
  },
  {
   "cell_type": "code",
   "execution_count": null,
   "metadata": {},
   "outputs": [],
   "source": []
  }
 ],
 "metadata": {
  "kernelspec": {
   "display_name": "Julia 1.5.1",
   "language": "julia",
   "name": "julia-1.5"
  },
  "language_info": {
   "file_extension": ".jl",
   "mimetype": "application/julia",
   "name": "julia",
   "version": "1.5.1"
  }
 },
 "nbformat": 4,
 "nbformat_minor": 4
}
